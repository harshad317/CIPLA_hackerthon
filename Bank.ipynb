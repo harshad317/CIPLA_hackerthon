{
 "cells": [
  {
   "cell_type": "code",
   "execution_count": 1,
   "metadata": {},
   "outputs": [],
   "source": [
    "import pandas as pd\n",
    "import numpy as np\n",
    "import matplotlib.pyplot as plt\n",
    "import seaborn as sns\n",
    "import scipy.stats as stats\n",
    "\n",
    "from sklearn.model_selection import train_test_split, KFold\n",
    "from sklearn.preprocessing import StandardScaler\n",
    "from sklearn.linear_model import LinearRegression\n",
    "from sklearn.ensemble import RandomForestRegressor\n",
    "from xgboost import XGBRegressor\n",
    "from lightgbm import LGBMRegressor\n",
    "from catboost import CatBoostRegressor\n",
    "from sklearn.metrics import r2_score\n",
    "from sklearn.cluster import KMeans\n",
    "\n",
    "\n",
    "pd.set_option('display.max_columns', 500)"
   ]
  },
  {
   "cell_type": "code",
   "execution_count": 2,
   "metadata": {},
   "outputs": [],
   "source": [
    "train = pd.read_csv('train.csv')\n",
    "test = pd.read_csv('test.csv')"
   ]
  },
  {
   "cell_type": "code",
   "execution_count": 3,
   "metadata": {},
   "outputs": [
    {
     "data": {
      "text/html": [
       "<div>\n",
       "<style scoped>\n",
       "    .dataframe tbody tr th:only-of-type {\n",
       "        vertical-align: middle;\n",
       "    }\n",
       "\n",
       "    .dataframe tbody tr th {\n",
       "        vertical-align: top;\n",
       "    }\n",
       "\n",
       "    .dataframe thead th {\n",
       "        text-align: right;\n",
       "    }\n",
       "</style>\n",
       "<table border=\"1\" class=\"dataframe\">\n",
       "  <thead>\n",
       "    <tr style=\"text-align: right;\">\n",
       "      <th></th>\n",
       "      <th>Customer ID</th>\n",
       "      <th>Name</th>\n",
       "      <th>Gender</th>\n",
       "      <th>Age</th>\n",
       "      <th>Income (USD)</th>\n",
       "      <th>Income Stability</th>\n",
       "      <th>Profession</th>\n",
       "      <th>Type of Employment</th>\n",
       "      <th>Location</th>\n",
       "      <th>Loan Amount Request (USD)</th>\n",
       "      <th>Current Loan Expenses (USD)</th>\n",
       "      <th>Expense Type 1</th>\n",
       "      <th>Expense Type 2</th>\n",
       "      <th>Dependents</th>\n",
       "      <th>Credit Score</th>\n",
       "      <th>No. of Defaults</th>\n",
       "      <th>Has Active Credit Card</th>\n",
       "      <th>Property ID</th>\n",
       "      <th>Property Age</th>\n",
       "      <th>Property Type</th>\n",
       "      <th>Property Location</th>\n",
       "      <th>Co-Applicant</th>\n",
       "      <th>Property Price</th>\n",
       "      <th>Loan Sanction Amount (USD)</th>\n",
       "    </tr>\n",
       "  </thead>\n",
       "  <tbody>\n",
       "    <tr>\n",
       "      <th>10906</th>\n",
       "      <td>C-13578</td>\n",
       "      <td>Lacey Palazzo</td>\n",
       "      <td>F</td>\n",
       "      <td>62</td>\n",
       "      <td>3660.59</td>\n",
       "      <td>Low</td>\n",
       "      <td>Working</td>\n",
       "      <td>High skill tech staff</td>\n",
       "      <td>Rural</td>\n",
       "      <td>21009.21</td>\n",
       "      <td>156.00</td>\n",
       "      <td>Y</td>\n",
       "      <td>Y</td>\n",
       "      <td>5.0</td>\n",
       "      <td>738.62</td>\n",
       "      <td>1</td>\n",
       "      <td>Inactive</td>\n",
       "      <td>824</td>\n",
       "      <td>3660.59</td>\n",
       "      <td>1</td>\n",
       "      <td>Urban</td>\n",
       "      <td>1</td>\n",
       "      <td>27668.28</td>\n",
       "      <td>13655.99</td>\n",
       "    </tr>\n",
       "    <tr>\n",
       "      <th>22988</th>\n",
       "      <td>C-43684</td>\n",
       "      <td>Palma Alameda</td>\n",
       "      <td>F</td>\n",
       "      <td>20</td>\n",
       "      <td>2783.57</td>\n",
       "      <td>Low</td>\n",
       "      <td>Working</td>\n",
       "      <td>Laborers</td>\n",
       "      <td>Semi-Urban</td>\n",
       "      <td>94821.77</td>\n",
       "      <td>306.45</td>\n",
       "      <td>Y</td>\n",
       "      <td>Y</td>\n",
       "      <td>2.0</td>\n",
       "      <td>649.92</td>\n",
       "      <td>1</td>\n",
       "      <td>Active</td>\n",
       "      <td>823</td>\n",
       "      <td>2783.57</td>\n",
       "      <td>3</td>\n",
       "      <td>Rural</td>\n",
       "      <td>1</td>\n",
       "      <td>108985.08</td>\n",
       "      <td>0.00</td>\n",
       "    </tr>\n",
       "    <tr>\n",
       "      <th>3719</th>\n",
       "      <td>C-45956</td>\n",
       "      <td>Nikki Mund</td>\n",
       "      <td>F</td>\n",
       "      <td>21</td>\n",
       "      <td>1536.94</td>\n",
       "      <td>Low</td>\n",
       "      <td>Commercial associate</td>\n",
       "      <td>NaN</td>\n",
       "      <td>Urban</td>\n",
       "      <td>123502.70</td>\n",
       "      <td>946.37</td>\n",
       "      <td>N</td>\n",
       "      <td>N</td>\n",
       "      <td>6.0</td>\n",
       "      <td>728.74</td>\n",
       "      <td>0</td>\n",
       "      <td>Unpossessed</td>\n",
       "      <td>379</td>\n",
       "      <td>1536.94</td>\n",
       "      <td>1</td>\n",
       "      <td>Rural</td>\n",
       "      <td>1</td>\n",
       "      <td>154682.12</td>\n",
       "      <td>0.00</td>\n",
       "    </tr>\n",
       "    <tr>\n",
       "      <th>8210</th>\n",
       "      <td>C-12848</td>\n",
       "      <td>Aleta Gessner</td>\n",
       "      <td>M</td>\n",
       "      <td>29</td>\n",
       "      <td>2663.44</td>\n",
       "      <td>Low</td>\n",
       "      <td>Working</td>\n",
       "      <td>Drivers</td>\n",
       "      <td>Rural</td>\n",
       "      <td>80673.05</td>\n",
       "      <td>682.42</td>\n",
       "      <td>Y</td>\n",
       "      <td>Y</td>\n",
       "      <td>2.0</td>\n",
       "      <td>689.87</td>\n",
       "      <td>0</td>\n",
       "      <td>Unpossessed</td>\n",
       "      <td>634</td>\n",
       "      <td>2663.44</td>\n",
       "      <td>2</td>\n",
       "      <td>Rural</td>\n",
       "      <td>1</td>\n",
       "      <td>121222.50</td>\n",
       "      <td>56471.14</td>\n",
       "    </tr>\n",
       "    <tr>\n",
       "      <th>18288</th>\n",
       "      <td>C-47122</td>\n",
       "      <td>Gay Dewolf</td>\n",
       "      <td>F</td>\n",
       "      <td>56</td>\n",
       "      <td>1645.52</td>\n",
       "      <td>Low</td>\n",
       "      <td>Commercial associate</td>\n",
       "      <td>NaN</td>\n",
       "      <td>Semi-Urban</td>\n",
       "      <td>85252.22</td>\n",
       "      <td>282.26</td>\n",
       "      <td>N</td>\n",
       "      <td>Y</td>\n",
       "      <td>1.0</td>\n",
       "      <td>877.49</td>\n",
       "      <td>1</td>\n",
       "      <td>Inactive</td>\n",
       "      <td>34</td>\n",
       "      <td>1645.52</td>\n",
       "      <td>1</td>\n",
       "      <td>Semi-Urban</td>\n",
       "      <td>0</td>\n",
       "      <td>141042.20</td>\n",
       "      <td>72464.39</td>\n",
       "    </tr>\n",
       "    <tr>\n",
       "      <th>23457</th>\n",
       "      <td>C-29183</td>\n",
       "      <td>Walter Leisy</td>\n",
       "      <td>F</td>\n",
       "      <td>56</td>\n",
       "      <td>NaN</td>\n",
       "      <td>Low</td>\n",
       "      <td>Working</td>\n",
       "      <td>IT staff</td>\n",
       "      <td>Semi-Urban</td>\n",
       "      <td>203834.98</td>\n",
       "      <td>810.44</td>\n",
       "      <td>N</td>\n",
       "      <td>Y</td>\n",
       "      <td>3.0</td>\n",
       "      <td>804.48</td>\n",
       "      <td>0</td>\n",
       "      <td>Inactive</td>\n",
       "      <td>188</td>\n",
       "      <td>NaN</td>\n",
       "      <td>3</td>\n",
       "      <td>Semi-Urban</td>\n",
       "      <td>1</td>\n",
       "      <td>229921.34</td>\n",
       "      <td>163067.98</td>\n",
       "    </tr>\n",
       "    <tr>\n",
       "      <th>11074</th>\n",
       "      <td>C-38454</td>\n",
       "      <td>Fumiko Kleven</td>\n",
       "      <td>M</td>\n",
       "      <td>41</td>\n",
       "      <td>2826.46</td>\n",
       "      <td>Low</td>\n",
       "      <td>Working</td>\n",
       "      <td>NaN</td>\n",
       "      <td>Semi-Urban</td>\n",
       "      <td>127862.42</td>\n",
       "      <td>808.76</td>\n",
       "      <td>Y</td>\n",
       "      <td>Y</td>\n",
       "      <td>2.0</td>\n",
       "      <td>731.32</td>\n",
       "      <td>0</td>\n",
       "      <td>Inactive</td>\n",
       "      <td>497</td>\n",
       "      <td>2826.46</td>\n",
       "      <td>1</td>\n",
       "      <td>Semi-Urban</td>\n",
       "      <td>1</td>\n",
       "      <td>157364.59</td>\n",
       "      <td>83110.57</td>\n",
       "    </tr>\n",
       "    <tr>\n",
       "      <th>24465</th>\n",
       "      <td>C-11082</td>\n",
       "      <td>Antonio Mulvihill</td>\n",
       "      <td>F</td>\n",
       "      <td>18</td>\n",
       "      <td>3872.56</td>\n",
       "      <td>Low</td>\n",
       "      <td>Working</td>\n",
       "      <td>Laborers</td>\n",
       "      <td>Semi-Urban</td>\n",
       "      <td>77245.69</td>\n",
       "      <td>483.31</td>\n",
       "      <td>N</td>\n",
       "      <td>Y</td>\n",
       "      <td>2.0</td>\n",
       "      <td>618.18</td>\n",
       "      <td>0</td>\n",
       "      <td>Inactive</td>\n",
       "      <td>160</td>\n",
       "      <td>3872.56</td>\n",
       "      <td>1</td>\n",
       "      <td>Urban</td>\n",
       "      <td>0</td>\n",
       "      <td>132542.84</td>\n",
       "      <td>0.00</td>\n",
       "    </tr>\n",
       "    <tr>\n",
       "      <th>8298</th>\n",
       "      <td>C-37018</td>\n",
       "      <td>Rod Dewar</td>\n",
       "      <td>F</td>\n",
       "      <td>29</td>\n",
       "      <td>2121.95</td>\n",
       "      <td>Low</td>\n",
       "      <td>Commercial associate</td>\n",
       "      <td>NaN</td>\n",
       "      <td>Semi-Urban</td>\n",
       "      <td>93562.92</td>\n",
       "      <td>441.49</td>\n",
       "      <td>N</td>\n",
       "      <td>Y</td>\n",
       "      <td>3.0</td>\n",
       "      <td>616.69</td>\n",
       "      <td>0</td>\n",
       "      <td>Unpossessed</td>\n",
       "      <td>974</td>\n",
       "      <td>2121.95</td>\n",
       "      <td>4</td>\n",
       "      <td>Urban</td>\n",
       "      <td>1</td>\n",
       "      <td>133063.81</td>\n",
       "      <td>0.00</td>\n",
       "    </tr>\n",
       "    <tr>\n",
       "      <th>7815</th>\n",
       "      <td>C-8136</td>\n",
       "      <td>Donya Ankrom</td>\n",
       "      <td>F</td>\n",
       "      <td>43</td>\n",
       "      <td>2107.25</td>\n",
       "      <td>Low</td>\n",
       "      <td>Working</td>\n",
       "      <td>Drivers</td>\n",
       "      <td>Semi-Urban</td>\n",
       "      <td>39790.40</td>\n",
       "      <td>287.18</td>\n",
       "      <td>Y</td>\n",
       "      <td>Y</td>\n",
       "      <td>4.0</td>\n",
       "      <td>711.31</td>\n",
       "      <td>0</td>\n",
       "      <td>Active</td>\n",
       "      <td>969</td>\n",
       "      <td>2107.25</td>\n",
       "      <td>4</td>\n",
       "      <td>Semi-Urban</td>\n",
       "      <td>1</td>\n",
       "      <td>44861.93</td>\n",
       "      <td>27853.28</td>\n",
       "    </tr>\n",
       "  </tbody>\n",
       "</table>\n",
       "</div>"
      ],
      "text/plain": [
       "      Customer ID               Name Gender  Age  Income (USD)  \\\n",
       "10906     C-13578      Lacey Palazzo      F   62       3660.59   \n",
       "22988     C-43684      Palma Alameda      F   20       2783.57   \n",
       "3719      C-45956         Nikki Mund      F   21       1536.94   \n",
       "8210      C-12848      Aleta Gessner      M   29       2663.44   \n",
       "18288     C-47122         Gay Dewolf      F   56       1645.52   \n",
       "23457     C-29183       Walter Leisy      F   56           NaN   \n",
       "11074     C-38454      Fumiko Kleven      M   41       2826.46   \n",
       "24465     C-11082  Antonio Mulvihill      F   18       3872.56   \n",
       "8298      C-37018          Rod Dewar      F   29       2121.95   \n",
       "7815       C-8136       Donya Ankrom      F   43       2107.25   \n",
       "\n",
       "      Income Stability            Profession     Type of Employment  \\\n",
       "10906              Low               Working  High skill tech staff   \n",
       "22988              Low               Working               Laborers   \n",
       "3719               Low  Commercial associate                    NaN   \n",
       "8210               Low               Working                Drivers   \n",
       "18288              Low  Commercial associate                    NaN   \n",
       "23457              Low               Working               IT staff   \n",
       "11074              Low               Working                    NaN   \n",
       "24465              Low               Working               Laborers   \n",
       "8298               Low  Commercial associate                    NaN   \n",
       "7815               Low               Working                Drivers   \n",
       "\n",
       "         Location  Loan Amount Request (USD)  Current Loan Expenses (USD)  \\\n",
       "10906       Rural                   21009.21                       156.00   \n",
       "22988  Semi-Urban                   94821.77                       306.45   \n",
       "3719        Urban                  123502.70                       946.37   \n",
       "8210        Rural                   80673.05                       682.42   \n",
       "18288  Semi-Urban                   85252.22                       282.26   \n",
       "23457  Semi-Urban                  203834.98                       810.44   \n",
       "11074  Semi-Urban                  127862.42                       808.76   \n",
       "24465  Semi-Urban                   77245.69                       483.31   \n",
       "8298   Semi-Urban                   93562.92                       441.49   \n",
       "7815   Semi-Urban                   39790.40                       287.18   \n",
       "\n",
       "      Expense Type 1 Expense Type 2  Dependents  Credit Score  \\\n",
       "10906              Y              Y         5.0        738.62   \n",
       "22988              Y              Y         2.0        649.92   \n",
       "3719               N              N         6.0        728.74   \n",
       "8210               Y              Y         2.0        689.87   \n",
       "18288              N              Y         1.0        877.49   \n",
       "23457              N              Y         3.0        804.48   \n",
       "11074              Y              Y         2.0        731.32   \n",
       "24465              N              Y         2.0        618.18   \n",
       "8298               N              Y         3.0        616.69   \n",
       "7815               Y              Y         4.0        711.31   \n",
       "\n",
       "       No. of Defaults Has Active Credit Card  Property ID  Property Age  \\\n",
       "10906                1               Inactive          824       3660.59   \n",
       "22988                1                 Active          823       2783.57   \n",
       "3719                 0            Unpossessed          379       1536.94   \n",
       "8210                 0            Unpossessed          634       2663.44   \n",
       "18288                1               Inactive           34       1645.52   \n",
       "23457                0               Inactive          188           NaN   \n",
       "11074                0               Inactive          497       2826.46   \n",
       "24465                0               Inactive          160       3872.56   \n",
       "8298                 0            Unpossessed          974       2121.95   \n",
       "7815                 0                 Active          969       2107.25   \n",
       "\n",
       "       Property Type Property Location  Co-Applicant  Property Price  \\\n",
       "10906              1             Urban             1        27668.28   \n",
       "22988              3             Rural             1       108985.08   \n",
       "3719               1             Rural             1       154682.12   \n",
       "8210               2             Rural             1       121222.50   \n",
       "18288              1        Semi-Urban             0       141042.20   \n",
       "23457              3        Semi-Urban             1       229921.34   \n",
       "11074              1        Semi-Urban             1       157364.59   \n",
       "24465              1             Urban             0       132542.84   \n",
       "8298               4             Urban             1       133063.81   \n",
       "7815               4        Semi-Urban             1        44861.93   \n",
       "\n",
       "       Loan Sanction Amount (USD)  \n",
       "10906                    13655.99  \n",
       "22988                        0.00  \n",
       "3719                         0.00  \n",
       "8210                     56471.14  \n",
       "18288                    72464.39  \n",
       "23457                   163067.98  \n",
       "11074                    83110.57  \n",
       "24465                        0.00  \n",
       "8298                         0.00  \n",
       "7815                     27853.28  "
      ]
     },
     "execution_count": 3,
     "metadata": {},
     "output_type": "execute_result"
    }
   ],
   "source": [
    "train.sample(10)"
   ]
  },
  {
   "cell_type": "code",
   "execution_count": 4,
   "metadata": {},
   "outputs": [
    {
     "data": {
      "text/plain": [
       "(Customer ID                       0\n",
       " Name                              0\n",
       " Gender                           53\n",
       " Age                               0\n",
       " Income (USD)                   4576\n",
       " Income Stability               1683\n",
       " Profession                        0\n",
       " Type of Employment             7270\n",
       " Location                          0\n",
       " Loan Amount Request (USD)         0\n",
       " Current Loan Expenses (USD)     172\n",
       " Expense Type 1                    0\n",
       " Expense Type 2                    0\n",
       " Dependents                     2493\n",
       " Credit Score                   1703\n",
       " No. of Defaults                   0\n",
       " Has Active Credit Card         1566\n",
       " Property ID                       0\n",
       " Property Age                   4850\n",
       " Property Type                     0\n",
       " Property Location               356\n",
       " Co-Applicant                      0\n",
       " Property Price                    0\n",
       " Loan Sanction Amount (USD)      340\n",
       " dtype: int64,\n",
       " (30000, 24))"
      ]
     },
     "execution_count": 4,
     "metadata": {},
     "output_type": "execute_result"
    }
   ],
   "source": [
    "train.isnull().sum(), train.shape"
   ]
  },
  {
   "cell_type": "code",
   "execution_count": 5,
   "metadata": {},
   "outputs": [
    {
     "data": {
      "text/plain": [
       "Customer ID                    30000\n",
       "Name                           30000\n",
       "Gender                             2\n",
       "Age                               48\n",
       "Income (USD)                   24429\n",
       "Income Stability                   2\n",
       "Profession                         8\n",
       "Type of Employment                18\n",
       "Location                           3\n",
       "Loan Amount Request (USD)      29982\n",
       "Current Loan Expenses (USD)    24041\n",
       "Expense Type 1                     2\n",
       "Expense Type 2                     2\n",
       "Dependents                        10\n",
       "Credit Score                   17586\n",
       "No. of Defaults                    2\n",
       "Has Active Credit Card             3\n",
       "Property ID                      999\n",
       "Property Age                   24179\n",
       "Property Type                      4\n",
       "Property Location                  3\n",
       "Co-Applicant                       3\n",
       "Property Price                 29632\n",
       "Loan Sanction Amount (USD)     21450\n",
       "dtype: int64"
      ]
     },
     "execution_count": 5,
     "metadata": {},
     "output_type": "execute_result"
    }
   ],
   "source": [
    "train.nunique()"
   ]
  },
  {
   "cell_type": "code",
   "execution_count": 6,
   "metadata": {},
   "outputs": [
    {
     "data": {
      "text/plain": [
       "<AxesSubplot:>"
      ]
     },
     "execution_count": 6,
     "metadata": {},
     "output_type": "execute_result"
    },
    {
     "data": {
      "image/png": "[encoded data removed]",
      "text/plain": [
       "<Figure size 1080x720 with 2 Axes>"
      ]
     },
     "metadata": {
      "needs_background": "light"
     },
     "output_type": "display_data"
    }
   ],
   "source": [
    "plt.figure(figsize=(15,10))\n",
    "sns.heatmap(train.corr(), annot=True)"
   ]
  },
  {
   "cell_type": "code",
   "execution_count": 7,
   "metadata": {},
   "outputs": [],
   "source": [
    "#train['Loan Sanction Amount (USD)'].fillna(value=train['Loan Sanction Amount (USD)'].median(), inplace=True, axis=0)"
   ]
  },
  {
   "cell_type": "code",
   "execution_count": 8,
   "metadata": {},
   "outputs": [],
   "source": [
    "train.dropna(axis=0, subset=['Loan Sanction Amount (USD)'], inplace=True, how='any')"
   ]
  },
  {
   "cell_type": "code",
   "execution_count": 9,
   "metadata": {},
   "outputs": [],
   "source": [
    "train['Loan Sanction Amount (USD)'] = np.where(train['Loan Sanction Amount (USD)'] <0.0, 0.0,train['Loan Sanction Amount (USD)'])"
   ]
  },
  {
   "cell_type": "code",
   "execution_count": 10,
   "metadata": {},
   "outputs": [],
   "source": [
    "train.Dependents.fillna(value=0, inplace=True, axis=0)"
   ]
  },
  {
   "cell_type": "code",
   "execution_count": 11,
   "metadata": {},
   "outputs": [],
   "source": [
    "train.Gender.fillna(value='F', inplace= True, axis= 0)\n",
    "test.Gender.fillna(value='F', inplace= True, axis= 0)"
   ]
  },
  {
   "cell_type": "code",
   "execution_count": 12,
   "metadata": {},
   "outputs": [],
   "source": [
    "gend1 = pd.get_dummies(train.Gender, drop_first=True)\n",
    "train = train.drop('Gender', axis= 1)\n",
    "train = pd.concat([train, gend1], axis= 1)"
   ]
  },
  {
   "cell_type": "code",
   "execution_count": 13,
   "metadata": {},
   "outputs": [],
   "source": [
    "gend2 = pd.get_dummies(test.Gender, drop_first=True)\n",
    "test = test.drop('Gender', axis= 1)\n",
    "test = pd.concat([test, gend2], axis= 1)"
   ]
  },
  {
   "cell_type": "code",
   "execution_count": 14,
   "metadata": {},
   "outputs": [],
   "source": [
    "train['Income Stability'].fillna(value='High', inplace=True, axis=0)\n",
    "test['Income Stability'].fillna(value='High', inplace=True, axis=0)"
   ]
  },
  {
   "cell_type": "code",
   "execution_count": 15,
   "metadata": {},
   "outputs": [],
   "source": [
    "stab1 = pd.get_dummies(train['Income Stability'], drop_first=True)\n",
    "train = train.drop('Income Stability', axis= 1)\n",
    "train = pd.concat([train, stab1], axis= 1)"
   ]
  },
  {
   "cell_type": "code",
   "execution_count": 16,
   "metadata": {},
   "outputs": [],
   "source": [
    "stab2 = pd.get_dummies(test['Income Stability'], drop_first=True)\n",
    "test = test.drop('Income Stability', axis= 1)\n",
    "test = pd.concat([test, stab2], axis= 1)"
   ]
  },
  {
   "cell_type": "code",
   "execution_count": 17,
   "metadata": {},
   "outputs": [],
   "source": [
    "prof1 = pd.get_dummies(train.Profession, drop_first=True)\n",
    "train = train.drop('Profession', axis= 1)\n",
    "train = pd.concat([train, prof1], axis= 1)"
   ]
  },
  {
   "cell_type": "code",
   "execution_count": 18,
   "metadata": {},
   "outputs": [],
   "source": [
    "prof2 = pd.get_dummies(test.Profession, drop_first=True)\n",
    "test = test.drop('Profession', axis= 1)\n",
    "test = pd.concat([test, prof2], axis= 1)"
   ]
  },
  {
   "cell_type": "code",
   "execution_count": 19,
   "metadata": {},
   "outputs": [],
   "source": [
    "emp1 = pd.get_dummies(train['Type of Employment'], drop_first=True)\n",
    "train = train.drop('Type of Employment', axis= 1)\n",
    "train = pd.concat([train, emp1], axis= 1)"
   ]
  },
  {
   "cell_type": "code",
   "execution_count": 20,
   "metadata": {},
   "outputs": [],
   "source": [
    "emp2 = pd.get_dummies(test['Type of Employment'], drop_first=True)\n",
    "test = test.drop('Type of Employment', axis= 1)\n",
    "test = pd.concat([test, emp2], axis= 1)"
   ]
  },
  {
   "cell_type": "code",
   "execution_count": 21,
   "metadata": {},
   "outputs": [],
   "source": [
    "test['Co-Applicant'] = test['Co-Applicant'].astype(str).replace('?', np.nan)\n",
    "test['Property Price'] = test['Property Price'].astype(str).replace('?', np.nan)"
   ]
  },
  {
   "cell_type": "code",
   "execution_count": 22,
   "metadata": {},
   "outputs": [],
   "source": [
    "test['Co-Applicant']= test['Co-Applicant'].astype(float)\n",
    "test['Property Price'] = test['Property Price'].astype(float)"
   ]
  },
  {
   "cell_type": "code",
   "execution_count": 24,
   "metadata": {},
   "outputs": [],
   "source": [
    "train['Co-Applicant'].fillna(value= -999, inplace= True, axis= 0)\n",
    "test['Co-Applicant'].fillna(value= -999, inplace= True, axis= 0)"
   ]
  },
  {
   "cell_type": "code",
   "execution_count": 25,
   "metadata": {},
   "outputs": [
    {
     "data": {
      "text/plain": [
       "array(['Semi-Urban', 'Rural', 'Urban'], dtype=object)"
      ]
     },
     "execution_count": 25,
     "metadata": {},
     "output_type": "execute_result"
    }
   ],
   "source": [
    "train.Location.unique()"
   ]
  },
  {
   "cell_type": "code",
   "execution_count": 26,
   "metadata": {},
   "outputs": [],
   "source": [
    "train.Location = train.Location.map({'Rural': 0,\n",
    "                                     'Semi-Urban':1,\n",
    "                                     'Urban':2})\n",
    "\n",
    "test.Location = test.Location.map({'Rural': 0,\n",
    "                                     'Semi-Urban':1,\n",
    "                                     'Urban':2})"
   ]
  },
  {
   "cell_type": "code",
   "execution_count": 27,
   "metadata": {},
   "outputs": [],
   "source": [
    "train['Expense Type 1'] = train['Expense Type 1'].map({'N':0, 'Y': 1})\n",
    "train['Expense Type 2'] = train['Expense Type 2'].map({'N':0, 'Y': 1})\n",
    "\n",
    "test['Expense Type 1'] = test['Expense Type 1'].map({'N':0, 'Y': 1})\n",
    "test['Expense Type 2'] = test['Expense Type 2'].map({'N':0, 'Y': 1})"
   ]
  },
  {
   "cell_type": "code",
   "execution_count": 28,
   "metadata": {},
   "outputs": [],
   "source": [
    "cred1 = pd.get_dummies(train['Has Active Credit Card'], drop_first=True)\n",
    "train = train.drop('Has Active Credit Card', axis= 1)\n",
    "train = pd.concat([train, cred1], axis= 1)"
   ]
  },
  {
   "cell_type": "code",
   "execution_count": 29,
   "metadata": {},
   "outputs": [],
   "source": [
    "cred2 = pd.get_dummies(test['Has Active Credit Card'], drop_first=True)\n",
    "test = test.drop('Has Active Credit Card', axis= 1)\n",
    "test = pd.concat([test, cred2], axis= 1)"
   ]
  },
  {
   "cell_type": "code",
   "execution_count": 30,
   "metadata": {},
   "outputs": [],
   "source": [
    "train['Property Location'] = train['Property Location'].map({'Rural': 0,\n",
    "                                                             'Semi-Urban':1,\n",
    "                                                             'Urban':2})\n",
    "\n",
    "test['Property Location'] = test['Property Location'].map({'Rural': 0,\n",
    "                                                             'Semi-Urban':1,\n",
    "                                                             'Urban':2})"
   ]
  },
  {
   "cell_type": "code",
   "execution_count": 31,
   "metadata": {},
   "outputs": [
    {
     "data": {
      "text/plain": [
       "['Customer ID', 'Name']"
      ]
     },
     "execution_count": 31,
     "metadata": {},
     "output_type": "execute_result"
    }
   ],
   "source": [
    "[var for var in train.columns if train[var].dtypes == 'O']"
   ]
  },
  {
   "cell_type": "code",
   "execution_count": null,
   "metadata": {},
   "outputs": [],
   "source": [
    "cat_cols = [\n",
    " 'Gender',\n",
    " 'Income Stability',\n",
    " 'Profession',\n",
    " 'Type of Employment',\n",
    " 'Location',\n",
    " 'Expense Type 1',\n",
    " 'Expense Type 2',\n",
    " 'Has Active Credit Card',\n",
    " 'Property Location']"
   ]
  },
  {
   "cell_type": "code",
   "execution_count": null,
   "metadata": {},
   "outputs": [],
   "source": [
    "from category_encoders import BinaryEncoder, JamesSteinEncoder\n",
    "\n",
    "be = JamesSteinEncoder(sigma=0.1)\n",
    "train[cat_cols] = be.fit_transform(train[cat_cols], train['Loan Sanction Amount (USD)'])\n",
    "test[cat_cols] = be.transform(test[cat_cols])"
   ]
  },
  {
   "cell_type": "code",
   "execution_count": null,
   "metadata": {},
   "outputs": [],
   "source": []
  },
  {
   "cell_type": "code",
   "execution_count": 32,
   "metadata": {},
   "outputs": [
    {
     "data": {
      "text/plain": [
       "['Age',\n",
       " 'Income (USD)',\n",
       " 'Location',\n",
       " 'Loan Amount Request (USD)',\n",
       " 'Current Loan Expenses (USD)',\n",
       " 'Expense Type 1',\n",
       " 'Expense Type 2',\n",
       " 'Dependents',\n",
       " 'Credit Score',\n",
       " 'No. of Defaults',\n",
       " 'Property ID',\n",
       " 'Property Age',\n",
       " 'Property Type',\n",
       " 'Property Location',\n",
       " 'Co-Applicant',\n",
       " 'Property Price',\n",
       " 'Loan Sanction Amount (USD)',\n",
       " 'M',\n",
       " 'Low',\n",
       " 'Commercial associate',\n",
       " 'Maternity leave',\n",
       " 'Pensioner',\n",
       " 'State servant',\n",
       " 'Student',\n",
       " 'Unemployed',\n",
       " 'Working',\n",
       " 'Cleaning staff',\n",
       " 'Cooking staff',\n",
       " 'Core staff',\n",
       " 'Drivers',\n",
       " 'HR staff',\n",
       " 'High skill tech staff',\n",
       " 'IT staff',\n",
       " 'Laborers',\n",
       " 'Low-skill Laborers',\n",
       " 'Managers',\n",
       " 'Medicine staff',\n",
       " 'Private service staff',\n",
       " 'Realty agents',\n",
       " 'Sales staff',\n",
       " 'Secretaries',\n",
       " 'Security staff',\n",
       " 'Waiters/barmen staff',\n",
       " 'Inactive',\n",
       " 'Unpossessed']"
      ]
     },
     "execution_count": 32,
     "metadata": {},
     "output_type": "execute_result"
    }
   ],
   "source": [
    "[var for var in train.columns if train[var].dtypes != 'O']"
   ]
  },
  {
   "cell_type": "code",
   "execution_count": 43,
   "metadata": {},
   "outputs": [],
   "source": [
    "cont_cols = ['Age',\n",
    " 'Income (USD)',\n",
    " 'Location',\n",
    " 'Loan Amount Request (USD)',\n",
    " 'Current Loan Expenses (USD)',\n",
    " 'Expense Type 1',\n",
    " 'Expense Type 2',\n",
    " 'Dependents',\n",
    " 'Credit Score',\n",
    " 'No. of Defaults',\n",
    " 'Property ID',\n",
    " 'Property Age',\n",
    " 'Property Type',\n",
    " 'Property Location',\n",
    " 'Co-Applicant',\n",
    " 'Property Price',\n",
    " 'M',\n",
    " 'Low',\n",
    " 'Maternity leave',\n",
    " 'Pensioner',\n",
    " 'State servant',\n",
    " 'Student',\n",
    " 'Unemployed',\n",
    " 'Working',\n",
    " 'Cleaning staff',\n",
    " 'Cooking staff',\n",
    " 'Core staff',\n",
    " 'Drivers',\n",
    " 'HR staff',\n",
    " 'High skill tech staff',\n",
    " 'IT staff',\n",
    " 'Laborers',\n",
    " 'Low-skill Laborers',\n",
    " 'Managers',\n",
    " 'Medicine staff',\n",
    " 'Private service staff',\n",
    " 'Realty agents',\n",
    " 'Sales staff',\n",
    " 'Secretaries',\n",
    " 'Security staff',\n",
    " 'Waiters/barmen staff',\n",
    " 'Inactive',\n",
    " 'Unpossessed']"
   ]
  },
  {
   "cell_type": "code",
   "execution_count": null,
   "metadata": {},
   "outputs": [],
   "source": []
  },
  {
   "cell_type": "code",
   "execution_count": null,
   "metadata": {},
   "outputs": [],
   "source": []
  },
  {
   "cell_type": "code",
   "execution_count": null,
   "metadata": {},
   "outputs": [],
   "source": []
  },
  {
   "cell_type": "code",
   "execution_count": 44,
   "metadata": {},
   "outputs": [],
   "source": [
    "X_train = train[cont_cols]\n",
    "y_train = train['Loan Sanction Amount (USD)']\n",
    "X_test = test[cont_cols]"
   ]
  },
  {
   "cell_type": "code",
   "execution_count": 20,
   "metadata": {},
   "outputs": [],
   "source": [
    "X_train, X_test, y_train, y_test =train_test_split(X, y, test_size=0.3, random_state=2021)"
   ]
  },
  {
   "cell_type": "code",
   "execution_count": 37,
   "metadata": {},
   "outputs": [],
   "source": [
    "from sklearn.experimental import enable_iterative_imputer\n",
    "from sklearn.impute import IterativeImputer"
   ]
  },
  {
   "cell_type": "code",
   "execution_count": 38,
   "metadata": {},
   "outputs": [],
   "source": [
    "imputer = IterativeImputer(estimator=XGBRegressor(), initial_strategy='median', max_iter=10, imputation_order='ascending', skip_complete=True, random_state=0)"
   ]
  },
  {
   "cell_type": "code",
   "execution_count": 39,
   "metadata": {},
   "outputs": [
    {
     "data": {
      "text/plain": [
       "IterativeImputer(estimator=XGBRegressor(base_score=None, booster=None,\n",
       "                                        colsample_bylevel=None,\n",
       "                                        colsample_bynode=None,\n",
       "                                        colsample_bytree=None, gamma=None,\n",
       "                                        gpu_id=None, importance_type='gain',\n",
       "                                        interaction_constraints=None,\n",
       "                                        learning_rate=None, max_delta_step=None,\n",
       "                                        max_depth=None, min_child_weight=None,\n",
       "                                        missing=nan, monotone_constraints=None,\n",
       "                                        n_estimators=100, n_jobs=None,\n",
       "                                        num_parallel_tree=None,\n",
       "                                        random_state=None, reg_alpha=None,\n",
       "                                        reg_lambda=None, scale_pos_weight=None,\n",
       "                                        subsample=None, tree_method=None,\n",
       "                                        validate_parameters=None,\n",
       "                                        verbosity=None),\n",
       "                 initial_strategy='median', random_state=0, skip_complete=True)"
      ]
     },
     "execution_count": 39,
     "metadata": {},
     "output_type": "execute_result"
    }
   ],
   "source": [
    "imputer.fit(X_train)"
   ]
  },
  {
   "cell_type": "code",
   "execution_count": 40,
   "metadata": {},
   "outputs": [],
   "source": [
    "X_train = imputer.transform(X_train)\n",
    "X_test = imputer.transform(X_test)"
   ]
  },
  {
   "cell_type": "code",
   "execution_count": 34,
   "metadata": {},
   "outputs": [],
   "source": [
    "X_train = pd.DataFrame(X_train)\n",
    "X_test = pd.DataFrame(X_test)"
   ]
  },
  {
   "cell_type": "code",
   "execution_count": 35,
   "metadata": {},
   "outputs": [],
   "source": [
    "from feature_engine.outliers import Winsorizer"
   ]
  },
  {
   "cell_type": "code",
   "execution_count": 36,
   "metadata": {},
   "outputs": [],
   "source": [
    "win1 = Winsorizer(capping_method='iqr', tail='both', fold=1.5, variables=['Income (USD)', 'Current Loan Expenses (USD)', 'Property Age'])\n",
    "win2 = Winsorizer(capping_method='iqr', tail='right', fold=1.5, variables=['Loan Amount Request (USD)'])"
   ]
  },
  {
   "cell_type": "code",
   "execution_count": 37,
   "metadata": {},
   "outputs": [
    {
     "ename": "KeyError",
     "evalue": "\"None of [Index(['Income (USD)', 'Current Loan Expenses (USD)', 'Property Age'], dtype='object')] are in the [columns]\"",
     "output_type": "error",
     "traceback": [
      "\u001b[1;31m---------------------------------------------------------------------------\u001b[0m",
      "\u001b[1;31mKeyError\u001b[0m                                  Traceback (most recent call last)",
      "\u001b[1;32m<ipython-input-37-fc41a6291cb5>\u001b[0m in \u001b[0;36m<module>\u001b[1;34m\u001b[0m\n\u001b[1;32m----> 1\u001b[1;33m \u001b[0mwin1\u001b[0m\u001b[1;33m.\u001b[0m\u001b[0mfit\u001b[0m\u001b[1;33m(\u001b[0m\u001b[0mX_train\u001b[0m\u001b[1;33m)\u001b[0m\u001b[1;33m\u001b[0m\u001b[1;33m\u001b[0m\u001b[0m\n\u001b[0m\u001b[0;32m      2\u001b[0m \u001b[0mX_train\u001b[0m\u001b[1;33m=\u001b[0m \u001b[0mwin1\u001b[0m\u001b[1;33m.\u001b[0m\u001b[0mtransform\u001b[0m\u001b[1;33m(\u001b[0m\u001b[0mX_train\u001b[0m\u001b[1;33m)\u001b[0m\u001b[1;33m\u001b[0m\u001b[1;33m\u001b[0m\u001b[0m\n\u001b[0;32m      3\u001b[0m \u001b[0mX_test\u001b[0m \u001b[1;33m=\u001b[0m \u001b[0mwin1\u001b[0m\u001b[1;33m.\u001b[0m\u001b[0mtransform\u001b[0m\u001b[1;33m(\u001b[0m\u001b[0mX_test\u001b[0m\u001b[1;33m)\u001b[0m\u001b[1;33m\u001b[0m\u001b[1;33m\u001b[0m\u001b[0m\n",
      "\u001b[1;32mC:\\Anaconda\\lib\\site-packages\\feature_engine\\outliers\\winsorizer.py\u001b[0m in \u001b[0;36mfit\u001b[1;34m(self, X, y)\u001b[0m\n\u001b[0;32m    179\u001b[0m \u001b[1;33m\u001b[0m\u001b[0m\n\u001b[0;32m    180\u001b[0m         \u001b[1;31m# find or check for numerical variables\u001b[0m\u001b[1;33m\u001b[0m\u001b[1;33m\u001b[0m\u001b[1;33m\u001b[0m\u001b[0m\n\u001b[1;32m--> 181\u001b[1;33m         \u001b[0mself\u001b[0m\u001b[1;33m.\u001b[0m\u001b[0mvariables\u001b[0m \u001b[1;33m=\u001b[0m \u001b[0m_find_or_check_numerical_variables\u001b[0m\u001b[1;33m(\u001b[0m\u001b[0mX\u001b[0m\u001b[1;33m,\u001b[0m \u001b[0mself\u001b[0m\u001b[1;33m.\u001b[0m\u001b[0mvariables\u001b[0m\u001b[1;33m)\u001b[0m\u001b[1;33m\u001b[0m\u001b[1;33m\u001b[0m\u001b[0m\n\u001b[0m\u001b[0;32m    182\u001b[0m \u001b[1;33m\u001b[0m\u001b[0m\n\u001b[0;32m    183\u001b[0m         \u001b[1;32mif\u001b[0m \u001b[0mself\u001b[0m\u001b[1;33m.\u001b[0m\u001b[0mmissing_values\u001b[0m \u001b[1;33m==\u001b[0m \u001b[1;34m\"raise\"\u001b[0m\u001b[1;33m:\u001b[0m\u001b[1;33m\u001b[0m\u001b[1;33m\u001b[0m\u001b[0m\n",
      "\u001b[1;32mC:\\Anaconda\\lib\\site-packages\\feature_engine\\variable_manipulation.py\u001b[0m in \u001b[0;36m_find_or_check_numerical_variables\u001b[1;34m(X, variables)\u001b[0m\n\u001b[0;32m     74\u001b[0m     \u001b[1;32melse\u001b[0m\u001b[1;33m:\u001b[0m\u001b[1;33m\u001b[0m\u001b[1;33m\u001b[0m\u001b[0m\n\u001b[0;32m     75\u001b[0m         \u001b[1;31m# check that user entered variables are of type numerical\u001b[0m\u001b[1;33m\u001b[0m\u001b[1;33m\u001b[0m\u001b[1;33m\u001b[0m\u001b[0m\n\u001b[1;32m---> 76\u001b[1;33m         \u001b[1;32mif\u001b[0m \u001b[0many\u001b[0m\u001b[1;33m(\u001b[0m\u001b[0mX\u001b[0m\u001b[1;33m[\u001b[0m\u001b[0mvariables\u001b[0m\u001b[1;33m]\u001b[0m\u001b[1;33m.\u001b[0m\u001b[0mselect_dtypes\u001b[0m\u001b[1;33m(\u001b[0m\u001b[0mexclude\u001b[0m\u001b[1;33m=\u001b[0m\u001b[1;34m\"number\"\u001b[0m\u001b[1;33m)\u001b[0m\u001b[1;33m.\u001b[0m\u001b[0mcolumns\u001b[0m\u001b[1;33m)\u001b[0m\u001b[1;33m:\u001b[0m\u001b[1;33m\u001b[0m\u001b[1;33m\u001b[0m\u001b[0m\n\u001b[0m\u001b[0;32m     77\u001b[0m             raise TypeError(\n\u001b[0;32m     78\u001b[0m                 \u001b[1;34m\"Some of the variables are not numerical. Please cast them as \"\u001b[0m\u001b[1;33m\u001b[0m\u001b[1;33m\u001b[0m\u001b[0m\n",
      "\u001b[1;32mC:\\Anaconda\\lib\\site-packages\\pandas\\core\\frame.py\u001b[0m in \u001b[0;36m__getitem__\u001b[1;34m(self, key)\u001b[0m\n\u001b[0;32m   3028\u001b[0m             \u001b[1;32mif\u001b[0m \u001b[0mis_iterator\u001b[0m\u001b[1;33m(\u001b[0m\u001b[0mkey\u001b[0m\u001b[1;33m)\u001b[0m\u001b[1;33m:\u001b[0m\u001b[1;33m\u001b[0m\u001b[1;33m\u001b[0m\u001b[0m\n\u001b[0;32m   3029\u001b[0m                 \u001b[0mkey\u001b[0m \u001b[1;33m=\u001b[0m \u001b[0mlist\u001b[0m\u001b[1;33m(\u001b[0m\u001b[0mkey\u001b[0m\u001b[1;33m)\u001b[0m\u001b[1;33m\u001b[0m\u001b[1;33m\u001b[0m\u001b[0m\n\u001b[1;32m-> 3030\u001b[1;33m             \u001b[0mindexer\u001b[0m \u001b[1;33m=\u001b[0m \u001b[0mself\u001b[0m\u001b[1;33m.\u001b[0m\u001b[0mloc\u001b[0m\u001b[1;33m.\u001b[0m\u001b[0m_get_listlike_indexer\u001b[0m\u001b[1;33m(\u001b[0m\u001b[0mkey\u001b[0m\u001b[1;33m,\u001b[0m \u001b[0maxis\u001b[0m\u001b[1;33m=\u001b[0m\u001b[1;36m1\u001b[0m\u001b[1;33m,\u001b[0m \u001b[0mraise_missing\u001b[0m\u001b[1;33m=\u001b[0m\u001b[1;32mTrue\u001b[0m\u001b[1;33m)\u001b[0m\u001b[1;33m[\u001b[0m\u001b[1;36m1\u001b[0m\u001b[1;33m]\u001b[0m\u001b[1;33m\u001b[0m\u001b[1;33m\u001b[0m\u001b[0m\n\u001b[0m\u001b[0;32m   3031\u001b[0m \u001b[1;33m\u001b[0m\u001b[0m\n\u001b[0;32m   3032\u001b[0m         \u001b[1;31m# take() does not accept boolean indexers\u001b[0m\u001b[1;33m\u001b[0m\u001b[1;33m\u001b[0m\u001b[1;33m\u001b[0m\u001b[0m\n",
      "\u001b[1;32mC:\\Anaconda\\lib\\site-packages\\pandas\\core\\indexing.py\u001b[0m in \u001b[0;36m_get_listlike_indexer\u001b[1;34m(self, key, axis, raise_missing)\u001b[0m\n\u001b[0;32m   1264\u001b[0m             \u001b[0mkeyarr\u001b[0m\u001b[1;33m,\u001b[0m \u001b[0mindexer\u001b[0m\u001b[1;33m,\u001b[0m \u001b[0mnew_indexer\u001b[0m \u001b[1;33m=\u001b[0m \u001b[0max\u001b[0m\u001b[1;33m.\u001b[0m\u001b[0m_reindex_non_unique\u001b[0m\u001b[1;33m(\u001b[0m\u001b[0mkeyarr\u001b[0m\u001b[1;33m)\u001b[0m\u001b[1;33m\u001b[0m\u001b[1;33m\u001b[0m\u001b[0m\n\u001b[0;32m   1265\u001b[0m \u001b[1;33m\u001b[0m\u001b[0m\n\u001b[1;32m-> 1266\u001b[1;33m         \u001b[0mself\u001b[0m\u001b[1;33m.\u001b[0m\u001b[0m_validate_read_indexer\u001b[0m\u001b[1;33m(\u001b[0m\u001b[0mkeyarr\u001b[0m\u001b[1;33m,\u001b[0m \u001b[0mindexer\u001b[0m\u001b[1;33m,\u001b[0m \u001b[0maxis\u001b[0m\u001b[1;33m,\u001b[0m \u001b[0mraise_missing\u001b[0m\u001b[1;33m=\u001b[0m\u001b[0mraise_missing\u001b[0m\u001b[1;33m)\u001b[0m\u001b[1;33m\u001b[0m\u001b[1;33m\u001b[0m\u001b[0m\n\u001b[0m\u001b[0;32m   1267\u001b[0m         \u001b[1;32mreturn\u001b[0m \u001b[0mkeyarr\u001b[0m\u001b[1;33m,\u001b[0m \u001b[0mindexer\u001b[0m\u001b[1;33m\u001b[0m\u001b[1;33m\u001b[0m\u001b[0m\n\u001b[0;32m   1268\u001b[0m \u001b[1;33m\u001b[0m\u001b[0m\n",
      "\u001b[1;32mC:\\Anaconda\\lib\\site-packages\\pandas\\core\\indexing.py\u001b[0m in \u001b[0;36m_validate_read_indexer\u001b[1;34m(self, key, indexer, axis, raise_missing)\u001b[0m\n\u001b[0;32m   1306\u001b[0m             \u001b[1;32mif\u001b[0m \u001b[0mmissing\u001b[0m \u001b[1;33m==\u001b[0m \u001b[0mlen\u001b[0m\u001b[1;33m(\u001b[0m\u001b[0mindexer\u001b[0m\u001b[1;33m)\u001b[0m\u001b[1;33m:\u001b[0m\u001b[1;33m\u001b[0m\u001b[1;33m\u001b[0m\u001b[0m\n\u001b[0;32m   1307\u001b[0m                 \u001b[0maxis_name\u001b[0m \u001b[1;33m=\u001b[0m \u001b[0mself\u001b[0m\u001b[1;33m.\u001b[0m\u001b[0mobj\u001b[0m\u001b[1;33m.\u001b[0m\u001b[0m_get_axis_name\u001b[0m\u001b[1;33m(\u001b[0m\u001b[0maxis\u001b[0m\u001b[1;33m)\u001b[0m\u001b[1;33m\u001b[0m\u001b[1;33m\u001b[0m\u001b[0m\n\u001b[1;32m-> 1308\u001b[1;33m                 \u001b[1;32mraise\u001b[0m \u001b[0mKeyError\u001b[0m\u001b[1;33m(\u001b[0m\u001b[1;34mf\"None of [{key}] are in the [{axis_name}]\"\u001b[0m\u001b[1;33m)\u001b[0m\u001b[1;33m\u001b[0m\u001b[1;33m\u001b[0m\u001b[0m\n\u001b[0m\u001b[0;32m   1309\u001b[0m \u001b[1;33m\u001b[0m\u001b[0m\n\u001b[0;32m   1310\u001b[0m             \u001b[0max\u001b[0m \u001b[1;33m=\u001b[0m \u001b[0mself\u001b[0m\u001b[1;33m.\u001b[0m\u001b[0mobj\u001b[0m\u001b[1;33m.\u001b[0m\u001b[0m_get_axis\u001b[0m\u001b[1;33m(\u001b[0m\u001b[0maxis\u001b[0m\u001b[1;33m)\u001b[0m\u001b[1;33m\u001b[0m\u001b[1;33m\u001b[0m\u001b[0m\n",
      "\u001b[1;31mKeyError\u001b[0m: \"None of [Index(['Income (USD)', 'Current Loan Expenses (USD)', 'Property Age'], dtype='object')] are in the [columns]\""
     ]
    }
   ],
   "source": [
    "win1.fit(X_train)\n",
    "X_train= win1.transform(X_train)\n",
    "X_test = win1.transform(X_test)"
   ]
  },
  {
   "cell_type": "code",
   "execution_count": null,
   "metadata": {},
   "outputs": [],
   "source": [
    "win2.fit(X_train)\n",
    "X_train= win2.transform(X_train)\n",
    "X_test = win2.transform(X_test)"
   ]
  },
  {
   "cell_type": "code",
   "execution_count": 29,
   "metadata": {},
   "outputs": [
    {
     "name": "stdout",
     "output_type": "stream",
     "text": [
      "0.6013617892076613\n",
      "0.7707168428068966\n",
      "0.7609879887341701\n",
      "0.7745934442646509\n",
      "0.7731083323842335\n"
     ]
    }
   ],
   "source": [
    "models = [LinearRegression(), RandomForestRegressor(), XGBRegressor(), LGBMRegressor(), CatBoostRegressor(verbose=0)]\n",
    "\n",
    "for model in models:\n",
    "    model.fit(X_train, y_train)\n",
    "    pred = model.predict(X_test)\n",
    "    print(r2_score(y_test, pred))"
   ]
  },
  {
   "cell_type": "code",
   "execution_count": 47,
   "metadata": {},
   "outputs": [],
   "source": [
    "sub = pd.DataFrame()\n",
    "sub['Customer ID'] = test['Customer ID']\n",
    "sub['Loan Sanction Amount (USD)'] = pred\n",
    "sub.to_csv('3.csv', index= False)"
   ]
  },
  {
   "cell_type": "code",
   "execution_count": 46,
   "metadata": {},
   "outputs": [
    {
     "name": "stdout",
     "output_type": "stream",
     "text": [
      "=============== Fold No: 1 ===============\n",
      "0.7973123031767766\n",
      "=============== Fold No: 2 ===============\n",
      "0.765079619713117\n",
      "=============== Fold No: 3 ===============\n",
      "0.7732470160678391\n",
      "=============== Fold No: 4 ===============\n",
      "0.7782603947305704\n",
      "=============== Fold No: 5 ===============\n",
      "0.804193561919449\n",
      "=============== Fold No: 6 ===============\n",
      "0.7823229727804266\n",
      "=============== Fold No: 7 ===============\n",
      "0.8001884292924064\n",
      "=============== Fold No: 8 ===============\n",
      "0.7639960422463173\n",
      "=============== Fold No: 9 ===============\n",
      "0.773467992318088\n",
      "=============== Fold No: 10 ===============\n",
      "0.7464200114426199\n",
      "0.778448834368761\n"
     ]
    }
   ],
   "source": [
    "n_folds = 10\n",
    "subbed = []\n",
    "kf = KFold(n_splits=n_folds, shuffle=True, random_state=10)\n",
    "\n",
    "\n",
    "for fold, (train_idx, test_idx) in enumerate(kf.split(X_train, y_train)):\n",
    "    print('=============== Fold No:',fold+1,'===============')\n",
    "    X_tr, X_tst = X_train.iloc[train_idx], X_train.iloc[test_idx]\n",
    "    y_tr, y_tst = y_train.iloc[train_idx], y_train.iloc[test_idx]\n",
    "    \n",
    "    model = LGBMRegressor()\n",
    "    model.fit(X_tr, y_tr)\n",
    "    print(r2_score(y_tst, model.predict(X_tst)))\n",
    "    subbed.append(r2_score(y_tst, model.predict(X_tst)))\n",
    "    pred = model.predict(X_test)\n",
    "print(np.mean(subbed))"
   ]
  },
  {
   "cell_type": "code",
   "execution_count": 36,
   "metadata": {},
   "outputs": [],
   "source": [
    "from rfpimp import permutation_importances"
   ]
  },
  {
   "cell_type": "code",
   "execution_count": 37,
   "metadata": {},
   "outputs": [],
   "source": [
    "# function for creating a feature importance dataframe\n",
    "def imp_df(column_names, importances):\n",
    "    df = pd.DataFrame({'feature': column_names,\n",
    "                       'feature_importance': importances}) \\\n",
    "           .sort_values('feature_importance', ascending = False) \\\n",
    "           .reset_index(drop = True)\n",
    "    return df\n",
    "\n",
    "# plotting a feature importance dataframe (horizontal barchart)\n",
    "def var_imp_plot(imp_df):\n",
    "    plt.figure(figsize=(20,10))\n",
    "    imp_df.columns = ['feature', 'feature_importance']\n",
    "    sns.barplot(x = 'feature_importance', y = 'feature', data = imp_df, orient = 'h', color = 'royalblue')"
   ]
  },
  {
   "cell_type": "code",
   "execution_count": 38,
   "metadata": {},
   "outputs": [],
   "source": [
    "X_train = pd.DataFrame(X_train)\n",
    "X_test = pd.DataFrame(X_test)"
   ]
  },
  {
   "cell_type": "code",
   "execution_count": 39,
   "metadata": {},
   "outputs": [],
   "source": [
    "def r2(rf, X_train, y_train):\n",
    "    return r2_score(y_train, model.predict(X_train))\n",
    "\n",
    "perm_imp_rfpimp = permutation_importances(model, X_train, y_train, r2)\n",
    "perm_imp_rfpimp.reset_index(drop = False, inplace = True)"
   ]
  },
  {
   "cell_type": "code",
   "execution_count": 40,
   "metadata": {},
   "outputs": [
    {
     "data": {
      "image/png": "[encoded data removed]",
      "text/plain": [
       "<Figure size 1440x720 with 1 Axes>"
      ]
     },
     "metadata": {
      "needs_background": "light"
     },
     "output_type": "display_data"
    }
   ],
   "source": [
    "var_imp_plot(perm_imp_rfpimp)"
   ]
  },
  {
   "cell_type": "code",
   "execution_count": null,
   "metadata": {},
   "outputs": [],
   "source": []
  }
 ],
 "metadata": {
  "kernelspec": {
   "display_name": "Python 3",
   "language": "python",
   "name": "python3"
  },
  "language_info": {
   "codemirror_mode": {
    "name": "ipython",
    "version": 3
   },
   "file_extension": ".py",
   "mimetype": "text/x-python",
   "name": "python",
   "nbconvert_exporter": "python",
   "pygments_lexer": "ipython3",
   "version": "3.8.5"
  }
 },
 "nbformat": 4,
 "nbformat_minor": 4
}
